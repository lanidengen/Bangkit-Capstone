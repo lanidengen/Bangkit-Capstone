{
  "nbformat": 4,
  "nbformat_minor": 0,
  "metadata": {
    "colab": {
      "provenance": []
    },
    "kernelspec": {
      "name": "python3",
      "display_name": "Python 3"
    },
    "language_info": {
      "name": "python"
    }
  },
  "cells": [
    {
      "cell_type": "code",
      "execution_count": null,
      "metadata": {
        "id": "S3OOVXlGUZUm"
      },
      "outputs": [],
      "source": [
        "import tensorflow as tf\n",
        "from tensorflow.keras.preprocessing.image import ImageDataGenerator\n",
        "from tensorflow.keras.models import Sequential\n",
        "from tensorflow.keras.layers import Conv2D, MaxPooling2D, Flatten, Dense"
      ]
    },
    {
      "cell_type": "code",
      "source": [
        "dataset_directory = 'data'\n",
        "image_width, image_height = 150, 150\n",
        "batch_size = 32"
      ],
      "metadata": {
        "id": "IOaa1DTdVjcA"
      },
      "execution_count": null,
      "outputs": []
    },
    {
      "cell_type": "code",
      "source": [
        "datagen = ImageDataGenerator(rescale=1./255, validation_split=0.2)\n",
        "\n",
        "train_data = datagen.flow_from_directory(\n",
        "    dataset_directory,\n",
        "    target_size=(image_width, image_height),\n",
        "    batch_size=batch_size,\n",
        "    class_mode='binary',\n",
        "    subset='training'\n",
        ")\n",
        "\n",
        "val_data = datagen.flow_from_directory(\n",
        "    dataset_directory,\n",
        "    target_size=(image_width, image_height),\n",
        "    batch_size=batch_size,\n",
        "    class_mode='binary',\n",
        "    subset='validation'\n",
        ")"
      ],
      "metadata": {
        "colab": {
          "base_uri": "https://localhost:8080/"
        },
        "collapsed": true,
        "id": "kNj_ddkHVosL",
        "outputId": "6a02dd55-2838-45d9-becb-ff141e1e1c01"
      },
      "execution_count": null,
      "outputs": [
        {
          "output_type": "stream",
          "name": "stdout",
          "text": [
            "Found 45 images belonging to 3 classes.\n",
            "Found 10 images belonging to 3 classes.\n"
          ]
        }
      ]
    },
    {
      "cell_type": "code",
      "source": [
        "model = Sequential([\n",
        "    Conv2D(32, (3, 3), activation='relu', input_shape=(image_width, image_height, 3)),\n",
        "    MaxPooling2D((2, 2)),\n",
        "    Conv2D(64, (3, 3), activation='relu'),\n",
        "    MaxPooling2D((2, 2)),\n",
        "    Conv2D(128, (3, 3), activation='relu'),\n",
        "    MaxPooling2D((2, 2)),\n",
        "    Flatten(),\n",
        "    Dense(128, activation='relu'),\n",
        "    Dense(1, activation='sigmoid')\n",
        "])\n",
        "\n",
        "model.compile(optimizer='adam', loss='binary_crossentropy', metrics=['accuracy'])"
      ],
      "metadata": {
        "id": "eoTZ1WBaWfaH"
      },
      "execution_count": null,
      "outputs": []
    },
    {
      "cell_type": "code",
      "source": [
        "model.fit(train_data, epochs=10, validation_data=val_data)"
      ],
      "metadata": {
        "colab": {
          "base_uri": "https://localhost:8080/"
        },
        "id": "LXcle7TdXp7b",
        "outputId": "73aa7e7c-c010-4780-8627-5a695e3bd1e0"
      },
      "execution_count": null,
      "outputs": [
        {
          "output_type": "stream",
          "name": "stdout",
          "text": [
            "Epoch 1/10\n",
            "2/2 [==============================] - 6s 3s/step - loss: -4.1876 - accuracy: 0.3778 - val_loss: -19.8111 - val_accuracy: 0.4000\n",
            "Epoch 2/10\n",
            "2/2 [==============================] - 3s 831ms/step - loss: -25.4823 - accuracy: 0.4222 - val_loss: -98.3076 - val_accuracy: 0.4000\n",
            "Epoch 3/10\n",
            "2/2 [==============================] - 2s 2s/step - loss: -152.0516 - accuracy: 0.4222 - val_loss: -311.2577 - val_accuracy: 0.4000\n",
            "Epoch 4/10\n",
            "2/2 [==============================] - 2s 881ms/step - loss: -348.6091 - accuracy: 0.4222 - val_loss: -777.4454 - val_accuracy: 0.4000\n",
            "Epoch 5/10\n",
            "2/2 [==============================] - 2s 762ms/step - loss: -842.6738 - accuracy: 0.4222 - val_loss: -1709.3328 - val_accuracy: 0.4000\n",
            "Epoch 6/10\n",
            "2/2 [==============================] - 4s 1s/step - loss: -1860.6002 - accuracy: 0.4222 - val_loss: -3405.4468 - val_accuracy: 0.4000\n",
            "Epoch 7/10\n",
            "2/2 [==============================] - 3s 854ms/step - loss: -3544.7131 - accuracy: 0.4222 - val_loss: -6354.1084 - val_accuracy: 0.4000\n",
            "Epoch 8/10\n",
            "2/2 [==============================] - 2s 811ms/step - loss: -6336.3076 - accuracy: 0.4222 - val_loss: -11336.4551 - val_accuracy: 0.4000\n",
            "Epoch 9/10\n",
            "2/2 [==============================] - 3s 827ms/step - loss: -11546.8721 - accuracy: 0.4222 - val_loss: -19339.3125 - val_accuracy: 0.4000\n",
            "Epoch 10/10\n",
            "2/2 [==============================] - 2s 2s/step - loss: -21785.9629 - accuracy: 0.4222 - val_loss: -31768.6777 - val_accuracy: 0.4000\n"
          ]
        },
        {
          "output_type": "execute_result",
          "data": {
            "text/plain": [
              "<keras.src.callbacks.History at 0x789432d3ea70>"
            ]
          },
          "metadata": {},
          "execution_count": 25
        }
      ]
    },
    {
      "cell_type": "code",
      "source": [
        "loss, accuracy = model.evaluate(val_data)\n",
        "print('Validation Loss:', loss)\n",
        "print('Validation Accuracy:', accuracy)"
      ],
      "metadata": {
        "colab": {
          "base_uri": "https://localhost:8080/"
        },
        "id": "wI6huzykX09J",
        "outputId": "bfa9a2a4-343f-49e1-e360-eb949d952dd1"
      },
      "execution_count": null,
      "outputs": [
        {
          "output_type": "stream",
          "name": "stdout",
          "text": [
            "1/1 [==============================] - 0s 242ms/step - loss: -31768.6816 - accuracy: 0.4000\n",
            "Validation Loss: -31768.681640625\n",
            "Validation Accuracy: 0.4000000059604645\n"
          ]
        }
      ]
    },
    {
      "cell_type": "code",
      "source": [
        "model.save('trash_classifier_model.h5')"
      ],
      "metadata": {
        "id": "YAztOfXeX7ti"
      },
      "execution_count": null,
      "outputs": []
    }
  ]
}